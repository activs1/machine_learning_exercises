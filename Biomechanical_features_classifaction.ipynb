{
  "nbformat": 4,
  "nbformat_minor": 0,
  "metadata": {
    "colab": {
      "name": "Biomechanical features classifaction",
      "provenance": [],
      "collapsed_sections": [],
      "mount_file_id": "1g87s4La-JJzQtlrgS5YjsGekVE6Tv1-I",
      "authorship_tag": "ABX9TyM98MvDovbygQejJmQQ88kh"
    },
    "kernelspec": {
      "name": "python3",
      "display_name": "Python 3"
    }
  },
  "cells": [
    {
      "cell_type": "code",
      "metadata": {
        "id": "zZ9vqxyGGLar",
        "colab_type": "code",
        "colab": {}
      },
      "source": [
        "import numpy as np\n",
        "import pandas as pd\n",
        "import matplotlib.pyplot as plt\n",
        "from pandas_profiling import describe\n",
        "from sklearn.discriminant_analysis import QuadraticDiscriminantAnalysis, LinearDiscriminantAnalysis\n",
        "from sklearn.linear_model import LogisticRegression\n",
        "from sklearn.neighbors import KNeighborsClassifier\n",
        "from sklearn.metrics import accuracy_score, recall_score, f1_score, precision_score\n",
        "from sklearn.metrics import confusion_matrix, classification_report, plot_confusion_matrix, ConfusionMatrixDisplay\n",
        "from sklearn.model_selection import train_test_split, cross_val_score, cross_val_predict, ShuffleSplit\n",
        "import seaborn as sns\n",
        "from sklearn.decomposition import PCA\n",
        "from sklearn.preprocessing import StandardScaler"
      ],
      "execution_count": null,
      "outputs": []
    },
    {
      "cell_type": "code",
      "metadata": {
        "id": "3sZqG1zl4zxT",
        "colab_type": "code",
        "colab": {}
      },
      "source": [
        "# Biomechanical abnormalities\n",
        "# dataset from kaggle https://www.kaggle.com/uciml/biomechanical-features-of-orthopedic-patients\n",
        "\n",
        "data = pd.read_csv(\"/content/drive/My Drive/Semestr 6/Chemometria/Dane/biomechanical-features-of-orthopedic-patients/column_3C_weka.csv\")\n",
        "print(data.head) # -> to visualize structure of DataFrame\n",
        "\n",
        "y = data['class'].values\n",
        "\n",
        "X = data.drop('class', axis = 'columns').values\n",
        "\n",
        "# Data scaling\n",
        "scaler = StandardScaler()\n",
        "X = scaler.fit_transform(X)\n",
        "\n",
        "labels = np.unique(y)\n"
      ],
      "execution_count": null,
      "outputs": []
    },
    {
      "cell_type": "code",
      "metadata": {
        "id": "phLOZ1ckpRB0",
        "colab_type": "code",
        "colab": {
          "base_uri": "https://localhost:8080/",
          "height": 1000
        },
        "outputId": "0d8c6819-db71-46a7-b843-6d72654a772b"
      },
      "source": [
        "# Create instance of LogisticRegression (after testing few different models this model proved to be the best)\n",
        "model = LogisticRegression(penalty = 'l2', solver = 'sag', class_weight = 'balanced', max_iter = 1500)\n",
        "\n",
        "# Train test split 0.7/0.3\n",
        "X_train, X_test, y_train, y_test = train_test_split(X, y, test_size = 0.3, random_state = 1)\n",
        "\n",
        "# Train model\n",
        "model.fit(X_train, y_train)\n",
        "\n",
        "# Predict train\n",
        "y_pred_train = model.predict(X_train)\n",
        "\n",
        "# Predict test\n",
        "y_pred_test = model.predict(X_test)\n",
        "\n",
        "# Predict train vs predict test to see if model is overfitted\n",
        "print(\"Comparison between train and test accuracy scores to see if model is overfitted\")\n",
        "print(\"Accuracy (train): {acc:.2f}\".format(acc = accuracy_score(y_train, y_pred_train)))\n",
        "print(\"Accuracy (test): {acc:.2f}\".format(acc = accuracy_score(y_test, y_pred_test)))\n",
        "\n",
        "# Recall score\n",
        "print(\"\\nRecall score 'Normal' (test): {rec:.2f} \".format(rec = recall_score(y_test, y_pred_test, pos_label = 'Normal', average = 'weighted')))\n",
        "\n",
        "# Precision score\n",
        "print(\"\\nPrecision score 'Normal' (test): {prec:.2f}\".format(prec = precision_score(y_test, y_pred_test, pos_label = 'Normal', average = 'weighted')))\n",
        "\n",
        "# F1 score\n",
        "print(\"\\nF1 score 'Normal' (test): {f1:.2f}\".format(f1 = f1_score(y_test, y_pred_test, average = 'weighted')))\n",
        "\n",
        "# Classification report\n",
        "print(\"\\nClassification report: \\n\", classification_report(y_test, y_pred_test, labels = labels))\n",
        "\n",
        "# Confusion matrix\n",
        "cm = confusion_matrix(y_test, y_pred_test, labels)\n",
        "print(\"\\nConfusion matrix\\n\", pd.DataFrame(cm, columns = labels, index = labels))\n",
        "pcm = plot_confusion_matrix(model, X_test, y_test, labels = labels)\n",
        "ConfusionMatrixDisplay(pcm, display_labels = labels)\n",
        "plt.show()\n",
        "\n",
        "\n",
        "# Crossvalidation\n",
        "cv = ShuffleSplit(n_splits = 25, test_size = 0.3)\n",
        "scores = cross_val_score(model, X, y, cv = cv)\n",
        "\n",
        "print(\"\\nCV Accuracy: \", scores)\n",
        "print(\"CV Mean Acc: {mean:.2f}\".format(mean = scores.mean()))\n",
        "print(\"CV Std Acc: {std: .5f}\".format(std = scores.std()))\n",
        "\n",
        "# Crossvalidation prediction and confusion matrix\n",
        "y_pred_cv = cross_val_predict(model, X, y, cv = 25)\n",
        "cm = confusion_matrix(y_pred_cv, y, labels = labels)\n",
        "print(\"Crossval confusion matrix: \\n\", pd.DataFrame(data = cm, index = labels, columns = labels))\n",
        "\n",
        "pcm = ConfusionMatrixDisplay(cm, display_labels = labels)\n",
        "pcm.plot()\n",
        "plt.show()\n",
        "\n",
        "\n",
        "# Model is not showing very good results (precision is very different for Hernia and Normal vs Spondylolisthesis)\n",
        "# Recall is approximately on the same level for all classes \n",
        "# High precision for Spondylolisthesis suggests that if a model will classify one patient to have Spondylolisthesis there is a high chance of that being true\n",
        "# but it will not detect all patients with Spondylolisthesis"
      ],
      "execution_count": null,
      "outputs": [
        {
          "output_type": "stream",
          "text": [
            "Porownanie predykcji treningowy vs testowy\n",
            "Accuracy (train): 0.86\n",
            "Accuracy (test): 0.85\n",
            "\n",
            "Recall score 'Normal' (test): 0.85 \n",
            "\n",
            "Precision score 'Normal' (test): 0.87\n",
            "\n",
            "F1 score 'Normal' (test): 0.85\n",
            "\n",
            "Classification report: \n",
            "                    precision    recall  f1-score   support\n",
            "\n",
            "           Hernia       0.70      0.82      0.76        17\n",
            "           Normal       0.73      0.81      0.77        27\n",
            "Spondylolisthesis       1.00      0.88      0.93        49\n",
            "\n",
            "         accuracy                           0.85        93\n",
            "        macro avg       0.81      0.84      0.82        93\n",
            "     weighted avg       0.87      0.85      0.85        93\n",
            "\n",
            "\n",
            "Confusion matrix\n",
            "                    Hernia  Normal  Spondylolisthesis\n",
            "Hernia                 14       3                  0\n",
            "Normal                  5      22                  0\n",
            "Spondylolisthesis       1       5                 43\n"
          ],
          "name": "stdout"
        },
        {
          "output_type": "stream",
          "text": [
            "/usr/local/lib/python3.6/dist-packages/sklearn/metrics/_classification.py:1321: UserWarning: Note that pos_label (set to 'Normal') is ignored when average != 'binary' (got 'weighted'). You may use labels=[pos_label] to specify a single positive class.\n",
            "  % (pos_label, average), UserWarning)\n"
          ],
          "name": "stderr"
        },
        {
          "output_type": "display_data",
          "data": {
            "image/png": "[encoded data removed]",
            "text/plain": [
              "<Figure size 432x288 with 2 Axes>"
            ]
          },
          "metadata": {
            "tags": [],
            "needs_background": "light"
          }
        },
        {
          "output_type": "stream",
          "text": [
            "\n",
            "CV Accuracy:  [0.8172043  0.87096774 0.78494624 0.86021505 0.90322581 0.83870968\n",
            " 0.83870968 0.84946237 0.8172043  0.84946237 0.87096774 0.86021505\n",
            " 0.84946237 0.84946237 0.84946237 0.82795699 0.8172043  0.89247312\n",
            " 0.82795699 0.86021505 0.82795699 0.78494624 0.87096774 0.89247312\n",
            " 0.80645161]\n",
            "CV Mean Acc: 0.84\n",
            "CV Std Acc:  0.03012\n",
            "Crossval confusion matrix: \n",
            "                    Hernia  Normal  Spondylolisthesis\n",
            "Hernia                 46      18                  4\n",
            "Normal                 14      79                  5\n",
            "Spondylolisthesis       0       3                141\n"
          ],
          "name": "stdout"
        },
        {
          "output_type": "display_data",
          "data": {
            "image/png": "[encoded data removed]",
            "text/plain": [
              "<Figure size 432x288 with 2 Axes>"
            ]
          },
          "metadata": {
            "tags": [],
            "needs_background": "light"
          }
        }
      ]
    }
  ]
}