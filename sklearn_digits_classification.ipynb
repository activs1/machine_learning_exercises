{
  "nbformat": 4,
  "nbformat_minor": 0,
  "metadata": {
    "colab": {
      "name": "Copy of Lab7_Lasy losowe.ipynb",
      "provenance": [],
      "authorship_tag": "ABX9TyNGFnFTunayTzK/KXr4Rq5s",
      "include_colab_link": true
    },
    "kernelspec": {
      "name": "python3",
      "display_name": "Python 3"
    }
  },
  "cells": [
    {
      "cell_type": "markdown",
      "metadata": {
        "id": "view-in-github",
        "colab_type": "text"
      },
      "source": [
        "<a href=\"https://colab.research.google.com/github/activs1/machine_learning_exercises/blob/master/sklearn_digits_classification.ipynb\" target=\"_parent\"><img src=\"https://colab.research.google.com/assets/colab-badge.svg\" alt=\"Open In Colab\"/></a>"
      ]
    },
    {
      "cell_type": "code",
      "metadata": {
        "id": "RirB8RMiWNiN",
        "colab_type": "code",
        "colab": {}
      },
      "source": [
        "# Classification of digits from digits dataset sklearn\n",
        "import numpy as np\n",
        "from sklearn.tree import DecisionTreeClassifier\n",
        "from sklearn.ensemble import RandomForestClassifier\n",
        "from sklearn.model_selection import cross_val_score, train_test_split, ShuffleSplit\n",
        "from sklearn.metrics import accuracy_score, classification_report, confusion_matrix, plot_confusion_matrix\n",
        "import matplotlib.pyplot as plt\n",
        "import pandas as pd\n",
        "from sklearn.datasets import load_digits"
      ],
      "execution_count": null,
      "outputs": []
    },
    {
      "cell_type": "code",
      "metadata": {
        "id": "9lVKwSS6yRr0",
        "colab_type": "code",
        "colab": {
          "base_uri": "https://localhost:8080/",
          "height": 1000
        },
        "outputId": "bcad73e8-5052-4fe9-9687-84c0e7fdcd45"
      },
      "source": [
        "X, y = load_digits(return_X_y=True)\n",
        "\n",
        "labels = np.unique(y)\n",
        "\n",
        "cv = ShuffleSplit(n_splits = 15, test_size = 0.3)\n",
        "\n",
        "print(\"Decision tree classifier\\n\")\n",
        "# DECISION TREE\n",
        "# Split into train and test sets\n",
        "X_train, X_test, y_train, y_test = train_test_split(X, y, test_size = 0.3, random_state = 1)\n",
        "\n",
        "# Create classifier\n",
        "dt = DecisionTreeClassifier(criterion = 'gini', max_depth = 10, min_samples_split = 2)\n",
        "\n",
        "# Train\n",
        "dt.fit(X_train, y_train)\n",
        "\n",
        "# Accuracy for train and test\n",
        "y_pred_train = dt.predict(X_train)\n",
        "y_pred_test = dt.predict(X_test)\n",
        "\n",
        "print(\"Acc train Decision Tree: {:.4f}\".format(accuracy_score(y_train, y_pred_train)))\n",
        "print(\"Acc test Decision Tree: {:.4f}\".format(accuracy_score(y_test, y_pred_test)))\n",
        "\n",
        "# Classification report\n",
        "print(\"Classification report Decision Tree:\\n\", classification_report(y_test, y_pred_test, labels=labels))\n",
        "\n",
        "# Confusion matrix\n",
        "print(\"Confusion matrix Decion Tree:\\n\", pd.DataFrame(confusion_matrix(y_test, y_pred_test, labels=labels), index=labels, columns=labels))\n",
        "plot_confusion_matrix(dt, X_test, y_test, labels=labels)\n",
        "plt.show()\n",
        "\n",
        "# Cross validation with accuracies and AUC (0 vs all, 9 vs all)\n",
        "dt = tree.DecisionTreeClassifier(criterion = 'gini', max_depth = 10, min_samples_split = 2)\n",
        "\n",
        "scores_acc = cross_val_score(dt, X, y, scoring = 'accuracy', cv=cv) \n",
        "print(\"Cross val acc mean Decision Tree: {:.4f}\".format(scores_acc.mean()))\n",
        "\n",
        "# 0 vs all\n",
        "y_auc = y == 0\n",
        "scores_auc = cross_val_score(dt, X, y_auc, scoring = 'roc_auc', cv=cv) \n",
        "print(\"Cross val AUC mean (0 vs all) Decision Tree: {:.4f} \".format(scores_auc.mean()))\n",
        "\n",
        "y_auc = y == 9\n",
        "scores_auc = cross_val_score(dt, X, y_auc, scoring = 'roc_auc', cv=cv) \n",
        "print(\"Cross val AUC mean (9 vs all) Decision Tree: {:.4f} \".format(scores_auc.mean()))\n",
        "\n",
        "print(\"\\n\\n----------------------------------------\\n\\n\")\n",
        "\n",
        "print(\"Random forest classifier\\n\")\n",
        "# RANDOM FOREST\n",
        "# Split into train and test sets\n",
        "X_train, X_test, y_train, y_test = train_test_split(X, y, test_size = 0.3, random_state = 1)\n",
        "\n",
        "# Create classifier\n",
        "rf = RandomForestClassifier(n_estimators = 40, criterion = 'gini', max_depth = 10, min_samples_split = 5)\n",
        "\n",
        "# Train\n",
        "rf.fit(X_train, y_train)\n",
        "\n",
        "# Accuracy for train and test\n",
        "y_pred_train = rf.predict(X_train)\n",
        "y_pred_test = rf.predict(X_test)\n",
        "\n",
        "print(\"Acc train Random Forest: {:.4f}\".format(accuracy_score(y_train, y_pred_train)))\n",
        "print(\"Acc test Random Forest: {:.4f}\".format(accuracy_score(y_test, y_pred_test)))\n",
        "\n",
        "# Classification report\n",
        "print(\"Classification report Random Forest:\\n\", classification_report(y_test, y_pred_test, labels=labels))\n",
        "\n",
        "# Confusion matrix\n",
        "print(\"Confusion matrix Random Forest:\\n\", pd.DataFrame(confusion_matrix(y_test, y_pred_test, labels=labels), index=labels, columns=labels))\n",
        "plot_confusion_matrix(rf, X_test, y_test, labels=labels)\n",
        "plt.show()\n",
        "\n",
        "# Cross validation with accuracies and AUC (0 vs all, 9 vs all)\n",
        "rf = RandomForestClassifier(n_estimators = 40, criterion = 'gini', max_depth = 10, min_samples_split = 2)\n",
        "\n",
        "scores_acc = cross_val_score(rf, X, y, scoring = 'accuracy', cv=cv) \n",
        "print(\"Cross val acc mean Random Forest: {:.4f}\".format(scores_acc.mean()))\n",
        "\n",
        "# 0 vs all\n",
        "y_auc = y == 0\n",
        "scores_auc = cross_val_score(rf, X, y_auc, scoring = 'roc_auc', cv=cv) \n",
        "print(\"Cross val AUC mean (0 vs all) Random Forest: {:.4f} \".format(scores_auc.mean()))\n",
        "\n",
        "# 9 vs all\n",
        "y_auc = y == 9\n",
        "scores_auc = cross_val_score(rf, X, y_auc, scoring = 'roc_auc', cv=cv) \n",
        "print(\"Cross val AUC mean (9 vs all) Random Forest: {:.4f} \".format(scores_auc.mean()))\n",
        "\n",
        "\n",
        "\n",
        "# Decision tree classifier appears to be overfitted (0.97 train accuracy vs 0.85 test accuracy)\n",
        "# Maybe optimization maximum depth of the tree could be used to avoid overfitting\n",
        "\n",
        "# Random Forest classifier is not overfitted (1.0 vs 0.97)\n",
        "# it has also very high values of precision and recall for all of the classes\n",
        "# from which we can conclude about high classifcation ability of the model\n",
        "# Additionally the model has shown very high values in crossvalidation (both Accuracy and binary AUC - 0 vs all and 9 vs all)"
      ],
      "execution_count": null,
      "outputs": [
        {
          "output_type": "stream",
          "text": [
            "Decision tree classifier\n",
            "Acc train Decision Tree: 0.9730\n",
            "Acc test Decision Tree: 0.8537\n",
            "Classification report Decision Tree:\n",
            "               precision    recall  f1-score   support\n",
            "\n",
            "           0       1.00      0.92      0.96        59\n",
            "           1       0.79      0.84      0.81        49\n",
            "           2       0.86      0.86      0.86        49\n",
            "           3       0.87      0.83      0.85        64\n",
            "           4       0.87      0.85      0.86        61\n",
            "           5       0.81      0.94      0.87        47\n",
            "           6       0.98      0.90      0.94        51\n",
            "           7       0.88      0.89      0.89        57\n",
            "           8       0.75      0.83      0.78        46\n",
            "           9       0.74      0.70      0.72        57\n",
            "\n",
            "    accuracy                           0.85       540\n",
            "   macro avg       0.85      0.86      0.85       540\n",
            "weighted avg       0.86      0.85      0.85       540\n",
            "\n",
            "Confusion matrix Decion Tree:\n",
            "     0   1   2   3   4   5   6   7   8   9\n",
            "0  54   0   0   0   1   1   0   0   3   0\n",
            "1   0  41   2   0   2   0   0   1   2   1\n",
            "2   0   0  42   2   0   1   0   2   2   0\n",
            "3   0   2   0  53   0   0   0   1   3   5\n",
            "4   0   2   2   0  52   1   1   0   0   3\n",
            "5   0   0   0   0   0  44   0   0   0   3\n",
            "6   0   0   0   0   2   1  46   2   0   0\n",
            "7   0   1   0   2   2   0   0  51   1   0\n",
            "8   0   2   2   0   0   2   0   0  38   2\n",
            "9   0   4   1   4   1   4   0   1   2  40\n"
          ],
          "name": "stdout"
        },
        {
          "output_type": "display_data",
          "data": {
            "image/png": "[encoded data removed]",
            "text/plain": [
              "<Figure size 432x288 with 2 Axes>"
            ]
          },
          "metadata": {
            "tags": [],
            "needs_background": "light"
          }
        },
        {
          "output_type": "stream",
          "text": [
            "Cross val acc mean Decision Tree: 0.8438\n",
            "Cross val AUC mean (0 vs all) Decision Tree: 0.9763 \n",
            "Cross val AUC mean (9 vs all) Decision Tree: 0.8673 \n",
            "\n",
            "\n",
            "----------------------------------------\n",
            "\n",
            "\n",
            "Random forest classifier\n",
            "Acc train Random Forest: 1.0000\n",
            "Acc test Random Forest: 0.9722\n",
            "Classification report Random Forest:\n",
            "               precision    recall  f1-score   support\n",
            "\n",
            "           0       1.00      0.97      0.98        59\n",
            "           1       0.98      0.98      0.98        49\n",
            "           2       1.00      1.00      1.00        49\n",
            "           3       0.98      0.92      0.95        64\n",
            "           4       0.97      1.00      0.98        61\n",
            "           5       0.90      0.98      0.94        47\n",
            "           6       1.00      1.00      1.00        51\n",
            "           7       0.98      0.98      0.98        57\n",
            "           8       0.96      0.96      0.96        46\n",
            "           9       0.95      0.95      0.95        57\n",
            "\n",
            "    accuracy                           0.97       540\n",
            "   macro avg       0.97      0.97      0.97       540\n",
            "weighted avg       0.97      0.97      0.97       540\n",
            "\n",
            "Confusion matrix Random Forest:\n",
            "     0   1   2   3   4   5   6   7   8   9\n",
            "0  57   0   0   0   2   0   0   0   0   0\n",
            "1   0  48   0   0   0   1   0   0   0   0\n",
            "2   0   0  49   0   0   0   0   0   0   0\n",
            "3   0   1   0  59   0   1   0   1   1   1\n",
            "4   0   0   0   0  61   0   0   0   0   0\n",
            "5   0   0   0   0   0  46   0   0   1   0\n",
            "6   0   0   0   0   0   0  51   0   0   0\n",
            "7   0   0   0   0   0   0   0  56   0   1\n",
            "8   0   0   0   0   0   1   0   0  44   1\n",
            "9   0   0   0   1   0   2   0   0   0  54\n"
          ],
          "name": "stdout"
        },
        {
          "output_type": "display_data",
          "data": {
            "image/png": "[encoded data removed]",
            "text/plain": [
              "<Figure size 432x288 with 2 Axes>"
            ]
          },
          "metadata": {
            "tags": [],
            "needs_background": "light"
          }
        },
        {
          "output_type": "stream",
          "text": [
            "Cross val acc mean Random Forest: 0.9680\n",
            "Cross val AUC mean (0 vs all) Random Forest: 0.9997 \n",
            "Cross val AUC mean (9 vs all) Random Forest: 0.9906 \n"
          ],
          "name": "stdout"
        }
      ]
    }
  ]
}